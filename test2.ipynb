{
 "cells": [
  {
   "cell_type": "code",
   "execution_count": 29,
   "metadata": {},
   "outputs": [],
   "source": [
    "import plotly.express as px\n",
    "import pandas as pd \n",
    "import os \n",
    "import json "
   ]
  },
  {
   "cell_type": "code",
   "execution_count": 30,
   "metadata": {},
   "outputs": [],
   "source": [
    "# 경로 설정\n",
    "root_path = os.getcwd() # 실행 코드가 있는 곳 \n",
    "data_path = os.path.join(root_path, 'static/data') # 실험에 쓰일 데이터가 있는 곳 \n",
    "os.chdir(data_path)"
   ]
  },
  {
   "cell_type": "code",
   "execution_count": 32,
   "metadata": {},
   "outputs": [],
   "source": [
    "# 데이터 로드 \n",
    "geometry_gj = json.load(open('시군구.json', encoding='utf-8'))\n",
    "reg_df = pd.read_csv('기상데이터전처리완료 0510.csv', encoding='utf-8')"
   ]
  },
  {
   "cell_type": "code",
   "execution_count": null,
   "metadata": {},
   "outputs": [],
   "source": [
    "# 데이터 전처리 \n",
    "reg_name = [] \n",
    "for i in range(len(reg_df)): \n",
    "    reg_name = reg_df.iloc[i]['조사지역']\n",
    "reg_df['관측지역'] = reg_name\n",
    "reg_df = reg_df.rename(columns={'구  분':'EMD_KOR_NM'})"
   ]
  },
  {
   "cell_type": "code",
   "execution_count": 36,
   "metadata": {},
   "outputs": [
    {
     "name": "stdout",
     "output_type": "stream",
     "text": [
      "['강화', '거제', '거창', '고산', '고창', '고흥', '관악산', '광주', '구미', '군산', '금산', '남원', '남해', '대관령', '대구', '대전', '동두천', '동해', '목포', '문경', '문산', '밀양', '보령', '보은', '봉화', '부산', '부안', '부여', '산청', '상주', '서귀포', '서산', '서울', '속초', '수원', '안동', '양평', '여수', '영덕', '영월', '영주', '영천', '완도', '울릉도', '울산', '울진', '원주', '의성', '이천', '인제', '인천', '임실', '장수', '장흥', '전주', '정읍', '제주', '제천', '진도', '진주', '창원', '천안', '철원', '청주', '추풍령', '춘천', '태백', '통영', '포항', '합천', '해남', '홍천', '흑산도']\n"
     ]
    }
   ],
   "source": [
    "a = reg_df['조사지역'].unique()\n",
    "print(sorted(a))"
   ]
  },
  {
   "cell_type": "code",
   "execution_count": null,
   "metadata": {},
   "outputs": [],
   "source": [
    "관악산, 대관령, 추풍령, 고산, 서귀포, 흑산도, 문산\n"
   ]
  }
 ],
 "metadata": {
  "interpreter": {
   "hash": "c30a374dc3544837fc911f7c0b3ae456a317ea7f3e663f35a3dd2f13c77dd4db"
  },
  "kernelspec": {
   "display_name": "Python 3.9.7 ('kdig')",
   "language": "python",
   "name": "python3"
  },
  "language_info": {
   "codemirror_mode": {
    "name": "ipython",
    "version": 3
   },
   "file_extension": ".py",
   "mimetype": "text/x-python",
   "name": "python",
   "nbconvert_exporter": "python",
   "pygments_lexer": "ipython3",
   "version": "3.9.7"
  },
  "orig_nbformat": 4
 },
 "nbformat": 4,
 "nbformat_minor": 2
}
