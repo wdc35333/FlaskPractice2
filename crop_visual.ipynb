{
 "cells": [
  {
   "cell_type": "code",
   "execution_count": 1,
   "metadata": {},
   "outputs": [],
   "source": [
    "import folium as m\n",
    "import pandas as pd\n",
    "crop_map = m.Map(location = [36, 127], tiles=\"OpenStreetMap\", zoom_start = 8)"
   ]
  },
  {
   "cell_type": "code",
   "execution_count": null,
   "metadata": {},
   "outputs": [],
   "source": [
    "import json\n",
    "import folium\n",
    "with open('./static/data/조사지역.json',mode='rt',encoding='utf-8') as f:\n",
    "    geo = json.loads(f.read())\n",
    "    f.close()\n",
    "    \n",
    "border = folium.GeoJson(\n",
    "    geo,\n",
    "    name='korea_municipalities'\n",
    ")\n",
    "border.add_to(crop_map)\n",
    "\n",
    "crop_map\n"
   ]
  },
  {
   "cell_type": "code",
   "execution_count": 83,
   "metadata": {},
   "outputs": [],
   "source": [
    "import pandas as pd\n",
    "\n",
    "crop_df = pd.read_csv('static/data/2023-2100년_작물예측.csv', encoding='cp949')\n",
    "map_df = pd.read_csv('static/data/위도경도.csv', encoding='cp949')\n",
    "crop_df2 = crop_df[crop_df['관측년도'] == 2033]\n",
    "\n",
    "\n",
    "for i in range(len(map_df)):\n",
    "    tooltip = map_df.loc[i]['조사지역']\n",
    "    for row_index, crop in crop_df2.iterrows():\n",
    "        if crop['조사지역'] == map_df.loc[i]['조사지역']:\n",
    "            popup_msg = f'<br>1순위:{crop[\"1\"]}<br>2순위:{crop[\"2\"]}<br>3순위:{crop[\"3\"]}'\n",
    "            popup = folium.Popup(popup_msg,min_width = 100, max_width=100)\n",
    "    marker = m.Marker([map_df.loc[i]['위도'], map_df.loc[i]['경도']], icon= m.Icon(color='blue'), tooltip=tooltip, popup=popup)\n",
    "    marker.add_to(crop_map)"
   ]
  },
  {
   "cell_type": "code",
   "execution_count": null,
   "metadata": {},
   "outputs": [],
   "source": [
    "crop_map"
   ]
  },
  {
   "cell_type": "code",
   "execution_count": 87,
   "metadata": {},
   "outputs": [],
   "source": [
    "import json\n",
    "import folium\n",
    "import folium as m\n",
    "import pandas as pd\n",
    "def crop_recommend(year):\n",
    "    crop_df = pd.read_csv('static/data/2023-2100년_작물예측.csv', encoding='cp949')\n",
    "    map_df = pd.read_csv('static/data/위도경도.csv', encoding='cp949')\n",
    "    crop_df2 = crop_df[crop_df['관측년도'] == year]\n",
    "\n",
    "    crop_map = m.Map(location = [36, 127], tiles=\"OpenStreetMap\", zoom_start = 8)\n",
    "    with open('./static/data/조사지역.json',mode='rt',encoding='utf-8') as f:\n",
    "        geo = json.loads(f.read())\n",
    "        f.close()\n",
    "    \n",
    "    border = m.GeoJson(\n",
    "        geo,\n",
    "        name='korea_municipalities'\n",
    "    )\n",
    "    border.add_to(crop_map)\n",
    "\n",
    "    for i in range(len(map_df)):\n",
    "        tooltip = map_df.loc[i]['조사지역']\n",
    "        for row_index, crop in crop_df2.iterrows():\n",
    "            if crop['조사지역'] == map_df.loc[i]['조사지역']:\n",
    "                popup_msg = f'<br>1순위:{crop[\"1\"]}<br>2순위:{crop[\"2\"]}<br>3순위:{crop[\"3\"]}'\n",
    "                popup = m.Popup(popup_msg,min_width = 100, max_width=100)\n",
    "        marker = m.Marker([map_df.loc[i]['위도'], map_df.loc[i]['경도']], icon= m.Icon(color='blue'), tooltip=tooltip, popup=popup)\n",
    "        marker.add_to(crop_map)\n",
    "\n",
    "    crop_map.save('static/data/folium_crop.html')"
   ]
  },
  {
   "cell_type": "code",
   "execution_count": null,
   "metadata": {},
   "outputs": [],
   "source": []
  }
 ],
 "metadata": {
  "interpreter": {
   "hash": "c30a374dc3544837fc911f7c0b3ae456a317ea7f3e663f35a3dd2f13c77dd4db"
  },
  "kernelspec": {
   "display_name": "Python 3.9.7 ('kdig')",
   "language": "python",
   "name": "python3"
  },
  "language_info": {
   "codemirror_mode": {
    "name": "ipython",
    "version": 3
   },
   "file_extension": ".py",
   "mimetype": "text/x-python",
   "name": "python",
   "nbconvert_exporter": "python",
   "pygments_lexer": "ipython3",
   "version": "3.9.7"
  },
  "orig_nbformat": 4
 },
 "nbformat": 4,
 "nbformat_minor": 2
}
