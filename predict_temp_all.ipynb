{
 "cells": [
  {
   "cell_type": "code",
   "execution_count": 1,
   "metadata": {},
   "outputs": [
    {
     "data": {
      "text/html": [
       "<div>\n",
       "<style scoped>\n",
       "    .dataframe tbody tr th:only-of-type {\n",
       "        vertical-align: middle;\n",
       "    }\n",
       "\n",
       "    .dataframe tbody tr th {\n",
       "        vertical-align: top;\n",
       "    }\n",
       "\n",
       "    .dataframe thead th {\n",
       "        text-align: right;\n",
       "    }\n",
       "</style>\n",
       "<table border=\"1\" class=\"dataframe\">\n",
       "  <thead>\n",
       "    <tr style=\"text-align: right;\">\n",
       "      <th></th>\n",
       "      <th>KOR_NUM</th>\n",
       "      <th>year</th>\n",
       "      <th>month</th>\n",
       "      <th>KOR_NM</th>\n",
       "      <th>temperature</th>\n",
       "      <th>temp_max</th>\n",
       "      <th>temp_min</th>\n",
       "    </tr>\n",
       "  </thead>\n",
       "  <tbody>\n",
       "    <tr>\n",
       "      <th>0</th>\n",
       "      <td>0</td>\n",
       "      <td>2022</td>\n",
       "      <td>6</td>\n",
       "      <td>강화</td>\n",
       "      <td>20.605040</td>\n",
       "      <td>30.566410</td>\n",
       "      <td>11.158274</td>\n",
       "    </tr>\n",
       "    <tr>\n",
       "      <th>1</th>\n",
       "      <td>1</td>\n",
       "      <td>2022</td>\n",
       "      <td>6</td>\n",
       "      <td>거제</td>\n",
       "      <td>21.394990</td>\n",
       "      <td>30.923173</td>\n",
       "      <td>12.941101</td>\n",
       "    </tr>\n",
       "    <tr>\n",
       "      <th>2</th>\n",
       "      <td>2</td>\n",
       "      <td>2022</td>\n",
       "      <td>6</td>\n",
       "      <td>거창</td>\n",
       "      <td>21.235796</td>\n",
       "      <td>32.860230</td>\n",
       "      <td>9.869150</td>\n",
       "    </tr>\n",
       "    <tr>\n",
       "      <th>3</th>\n",
       "      <td>3</td>\n",
       "      <td>2022</td>\n",
       "      <td>6</td>\n",
       "      <td>고창</td>\n",
       "      <td>22.332163</td>\n",
       "      <td>32.538722</td>\n",
       "      <td>12.533119</td>\n",
       "    </tr>\n",
       "    <tr>\n",
       "      <th>4</th>\n",
       "      <td>4</td>\n",
       "      <td>2022</td>\n",
       "      <td>6</td>\n",
       "      <td>고흥</td>\n",
       "      <td>21.338696</td>\n",
       "      <td>31.007356</td>\n",
       "      <td>11.359531</td>\n",
       "    </tr>\n",
       "  </tbody>\n",
       "</table>\n",
       "</div>"
      ],
      "text/plain": [
       "   KOR_NUM  year  month KOR_NM  temperature   temp_max   temp_min\n",
       "0        0  2022      6     강화    20.605040  30.566410  11.158274\n",
       "1        1  2022      6     거제    21.394990  30.923173  12.941101\n",
       "2        2  2022      6     거창    21.235796  32.860230   9.869150\n",
       "3        3  2022      6     고창    22.332163  32.538722  12.533119\n",
       "4        4  2022      6     고흥    21.338696  31.007356  11.359531"
      ]
     },
     "execution_count": 1,
     "metadata": {},
     "output_type": "execute_result"
    }
   ],
   "source": [
    "import matplotlib.pyplot as plt\n",
    "import numpy as np\n",
    "import pandas as pd\n",
    "\n",
    "pred_df = pd.read_csv('static/data/2022-2100기후예측.csv', encoding='cp949')\n",
    "pred_df.head()"
   ]
  },
  {
   "cell_type": "code",
   "execution_count": 2,
   "metadata": {},
   "outputs": [],
   "source": [
    "years = pred_df[(pred_df['month'] == 6) & (pred_df['KOR_NM'] == '강화')]['year']\n",
    "temperatures = pred_df[(pred_df['month'] == 6) & (pred_df['KOR_NM'] == '강화')]['temperature']\n",
    "years_count = len(years.unique())\n",
    "x = np.arange(years_count)\n",
    "\n"
   ]
  },
  {
   "cell_type": "code",
   "execution_count": 3,
   "metadata": {},
   "outputs": [],
   "source": [
    "import platform\n",
    "\n",
    "if platform.system() == \"Darwin\":  # 맥\n",
    "    plt.rc('font', family='AppleGothic')\n",
    "elif platform.system() == \"Windows\":  # 윈도우\n",
    "    plt.rc('font', family='Malgun Gothic')\n",
    "elif platform.system() == \"Linux\":  # 리눅스 = 코랩\n",
    "    plt.rc('font', family='Malgun Gothic')"
   ]
  },
  {
   "cell_type": "code",
   "execution_count": 9,
   "metadata": {},
   "outputs": [
    {
     "data": {
      "image/png": "[encoded data removed]",
      "text/plain": [
       "<Figure size 720x216 with 1 Axes>"
      ]
     },
     "metadata": {
      "needs_background": "light"
     },
     "output_type": "display_data"
    },
    {
     "data": {
      "text/plain": [
       "<Figure size 432x288 with 0 Axes>"
      ]
     },
     "metadata": {},
     "output_type": "display_data"
    }
   ],
   "source": [
    "\n",
    "plt.figure(figsize=(10,3))\n",
    "plt.ylim(temperatures.min()-0.2,temperatures.max()+0.2)\n",
    "plt.plot(x, temperatures)\n",
    "plt.xticks(x, years)\n",
    "plt.plot(x, temperatures, label='강화의 평균 기온')\n",
    "plt.xticks(x, years)\n",
    "plt.xlabel('년도')\n",
    "plt.ylabel('기온')\n",
    "plt.legend()\n",
    "plt.show()\n",
    "plt.savefig('static/data/weather_graph.jpg')\n"
   ]
  },
  {
   "cell_type": "code",
   "execution_count": 40,
   "metadata": {},
   "outputs": [],
   "source": [
    "import matplotlib.pyplot as plt\n",
    "import numpy as np\n",
    "import pandas as pd\n",
    "import platform\n",
    "\n",
    "def weather_temp_month(region, predict_month, temp):\n",
    "    pred_df = pd.read_csv('static/data/2022-2100기후예측.csv', encoding='cp949')\n",
    "    if platform.system() == \"Darwin\":  # 맥\n",
    "        plt.rc('font', family='AppleGothic')\n",
    "    elif platform.system() == \"Windows\":  # 윈도우\n",
    "        plt.rc('font', family='Malgun Gothic')\n",
    "    elif platform.system() == \"Linux\":  # 리눅스 = 코랩\n",
    "        plt.rc('font', family='Malgun Gothic')\n",
    "        \n",
    "    years = pred_df[(pred_df['month'] == predict_month) &\n",
    "                    (pred_df['KOR_NM'] == region)]['year']\n",
    "    temperatures = pred_df[(pred_df['month'] == predict_month) & (\n",
    "        pred_df['KOR_NM'] == region)][temp]\n",
    "\n",
    "    years_count = len(years.unique())\n",
    "\n",
    "    if temp == 'temperature':\n",
    "        temp_name = '평균기온'\n",
    "    elif temp == 'temp_max':\n",
    "        temp_name = '최고기온'\n",
    "    elif temp == 'temp_min':\n",
    "        temp_name = '최저기온'\n",
    "    \n",
    "    x = np.arange(years_count)\n",
    "    plt.figure(figsize=(10, 3))\n",
    "    plt.ylim(temperatures.min()-0.2, temperatures.max() +0.2)\n",
    "    plt.plot(x, temperatures, label=f'{region}의 {temp_name}')\n",
    "    plt.xticks(x, years)\n",
    "    plt.xlabel('년도')\n",
    "    plt.ylabel('기온')\n",
    "    plt.legend()\n",
    "    plt.savefig('static/data/weather_graph.png')"
   ]
  },
  {
   "cell_type": "code",
   "execution_count": null,
   "metadata": {},
   "outputs": [],
   "source": []
  }
 ],
 "metadata": {
  "interpreter": {
   "hash": "c30a374dc3544837fc911f7c0b3ae456a317ea7f3e663f35a3dd2f13c77dd4db"
  },
  "kernelspec": {
   "display_name": "Python 3.9.7 ('kdig')",
   "language": "python",
   "name": "python3"
  },
  "language_info": {
   "codemirror_mode": {
    "name": "ipython",
    "version": 3
   },
   "file_extension": ".py",
   "mimetype": "text/x-python",
   "name": "python",
   "nbconvert_exporter": "python",
   "pygments_lexer": "ipython3",
   "version": "3.9.7"
  },
  "orig_nbformat": 4
 },
 "nbformat": 4,
 "nbformat_minor": 2
}
