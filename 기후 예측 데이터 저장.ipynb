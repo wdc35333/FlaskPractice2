{
 "cells": [
  {
   "cell_type": "code",
   "execution_count": 15,
   "id": "18479405",
   "metadata": {},
   "outputs": [],
   "source": [
    "import pandas as pd\n",
    "import statsmodels.api as sm\n",
    "import warnings\n",
    "warnings.filterwarnings('ignore')\n",
    "\n",
    "def OLS_model_predict(region, pred_year_month):\n",
    "    pred_year = int(str(pred_year_month).split(\"-\")[0])\n",
    "    month = int(str(pred_year_month).split(\"-\")[-1])\n",
    "\n",
    "    df_weather = pd.read_csv('static/data/기상데이터 0510 index X.csv')\n",
    "    df_tmp_region = df_weather[df_weather['조사지역'] == region]\n",
    "    df_weather_region = df_tmp_region.groupby(['조사지역', '관측일자']).mean()\n",
    "    df_weather_region = df_weather_region.reset_index(drop=False)\n",
    "\n",
    "    df_group_mean = df_weather_region.groupby(['연', '월']).mean()\n",
    "    df_group_mean = df_group_mean.reset_index(drop=False)\n",
    "    df_month_mean = df_group_mean[df_group_mean['월'] == month]\n",
    "\n",
    "    for i in df_month_mean.index:\n",
    "        df_tmp = df_weather_region.loc[(df_weather_region['연'] == df_month_mean.loc[i, '연']) & (df_weather_region['월'] == df_month_mean.loc[i, '월'])]\n",
    "        temp_max = df_tmp['temp_max'].max()\n",
    "        temp_min = df_tmp['temp_min'].min()\n",
    "        df_month_mean.loc[i, 'temp_max'] = temp_max\n",
    "        df_month_mean.loc[i, 'temp_min'] = temp_min\n",
    "\n",
    "    pred_list = []\n",
    "    for value in df_month_mean.columns[2: -3]:\n",
    "        df_target = df_month_mean[value]\n",
    "        X_train2 = pd.DataFrame(df_month_mean[['연']], columns = ['연'])\n",
    "        y_train2 = df_target.values\n",
    "\n",
    "        # import statsmodels.api as sm\n",
    "        X_train = sm.add_constant(X_train2)\n",
    "        model = sm.OLS(y_train2, X_train2).fit()\n",
    "        pred_value = model.predict(pred_year)\n",
    "\n",
    "        pred_list.append(float(pred_value))\n",
    "    \n",
    "    # print(f'\\t\\t\\t{region}의 {month}월 {pred_year}의 예측값:')\n",
    "    # print(pred_list)\n",
    "    return pred_list"
   ]
  },
  {
   "cell_type": "code",
   "execution_count": 5,
   "id": "9d6240fc",
   "metadata": {},
   "outputs": [
    {
     "data": {
      "text/plain": [
       "67"
      ]
     },
     "execution_count": 5,
     "metadata": {},
     "output_type": "execute_result"
    }
   ],
   "source": [
    "df = pd.read_csv('static/data/기상데이터 0510 index X.csv')\n",
    "region = sorted(df['조사지역'].unique())\n",
    "region.remove('고산')\n",
    "region.remove('관악산')\n",
    "region.remove('대관령')\n",
    "region.remove('흑산도')\n",
    "region.remove('문산')\n",
    "region.remove('추풍령')\n",
    "len(region)\n"
   ]
  },
  {
   "cell_type": "code",
   "execution_count": null,
   "id": "1178449e",
   "metadata": {},
   "outputs": [],
   "source": [
    "import numpy as np\n",
    "\n",
    "for i in range(2081,2090):\n",
    "    reg_pred_list = []\n",
    "    for j in range(1,13):\n",
    "        cnt = 0\n",
    "        for reg in region:\n",
    "            pred = OLS_model_predict(reg, f\"{i}-{j}\")\n",
    "            reg_pred_list.append(cnt)\n",
    "            reg_pred_list.append(j)\n",
    "            reg_pred_list.append(reg)\n",
    "            for k in pred:\n",
    "                reg_pred_list.append(k)\n",
    "    reg_pred_array = np.array(reg_pred_list)\n",
    "    reg_pred_array = reg_pred_array.reshape(-1,6)\n",
    "    df2 = pd.DataFrame(reg_pred_array, columns=['KOR_NUM', 'month', 'KOR_NM','temperature', 'temp_max', 'temp_min'])\n",
    "    df2.to_csv(f\"{i}예측.csv\", mode='w')\n"
   ]
  }
 ],
 "metadata": {
  "kernelspec": {
   "display_name": "Python 3 (ipykernel)",
   "language": "python",
   "name": "python3"
  },
  "language_info": {
   "codemirror_mode": {
    "name": "ipython",
    "version": 3
   },
   "file_extension": ".py",
   "mimetype": "text/x-python",
   "name": "python",
   "nbconvert_exporter": "python",
   "pygments_lexer": "ipython3",
   "version": "3.9.7"
  }
 },
 "nbformat": 4,
 "nbformat_minor": 5
}
